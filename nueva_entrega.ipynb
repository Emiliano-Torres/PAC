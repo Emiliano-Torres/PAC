{
 "cells": [
  {
   "cell_type": "code",
   "execution_count": 11,
   "metadata": {},
   "outputs": [],
   "source": [
    "#todo el paquete de archivos, las tablas acumuladas, las tablas que agregamos y este mismo archivo\n",
    "#deben estar todos en la misma carpeta\n",
    "\n",
    "import incorporar_nueva_entrega as ne\n",
    "import pandas as pd\n",
    "import tablas_Yami\n",
    "import PAC_utils as pac\n",
    "import funcion_diccionarios\n",
    "from dict_productos_por_fecha import lista_terminos_presentes_en_nombres, diccionario_productos, diccionario_2, diccionario_3,diccionario_4,diccionario_5,diccionario_6,diccionario_7,diccionario_8,diccionario_9"
   ]
  },
  {
   "cell_type": "code",
   "execution_count": 17,
   "metadata": {},
   "outputs": [],
   "source": [
    "tabla_precios_acumulada = pd.read_excel('tabla_precios_acumulada.xlsx')\n",
    "pedidos_acumulados = pd.read_excel('pedidos_acumulados.xlsx')"
   ]
  },
  {
   "cell_type": "code",
   "execution_count": 18,
   "metadata": {},
   "outputs": [],
   "source": [
    "\"\"\"\n",
    "lista_entregas = ['10 - Entrega 23_9_2023.xlsx',\n",
    "                  '11 - Entrega 7_10_2023.xlsx',\n",
    "                  '12 - Entrega 21_10_2023.xlsx',\n",
    "                  '13 - Entrega 4_11_2023.xlsx',\n",
    "                  '14 - Entrega 18_11_2023.xlsx',\n",
    "                  '15 - Entrega 2_12_2023.xlsx',\n",
    "                  '16 - Entrega 16_12_2023.xlsx',\n",
    "                  '18 - Entrega 2_3_2024.xlsx',\n",
    "                  '19 - Entrega 16_3_2024.xlsx',\n",
    "                  '20 - Entrega 30_3_2024.xlsx']\n",
    "\"\"\"\n",
    "#completar los excels con entregas que vamos a cargar como en el ejemplo de arriba (sin poner las triples comillas)\n",
    "#si agregamos una sola entrega, no se pone \",\"\n",
    "lista_entregas = []                    "
   ]
  },
  {
   "cell_type": "code",
   "execution_count": 19,
   "metadata": {},
   "outputs": [
    {
     "name": "stdout",
     "output_type": "stream",
     "text": [
      "[]\n",
      "[]\n",
      "[]\n",
      "[]\n",
      "[]\n",
      "[]\n",
      "[]\n",
      "[]\n",
      "[]\n",
      "[]\n"
     ]
    }
   ],
   "source": [
    "lista_tablas_precios = ne.construir_lista_tablas_precios(lista_entregas)\n",
    "for precios_entrega in lista_tablas_precios:\n",
    "  #las entregas nuevas anotadas en lista_entregas se agregan una por una a las tablas acumuladas\n",
    "  columnas = precios_entrega.columns\n",
    "  dup = [x for i, x in enumerate(columnas) if x in columnas[:i]] #para imprimir los nombres de columnas que se repiten\n",
    "  #si aparecen duplicados, hay que resolverlo eligiendo qué columna borrar del excel (de las dos o más que se llaman igual)\n",
    "  print(dup)\n",
    "  \n",
    "  tabla_precios_acumulada = ne.unificar_tablas_precios(tabla_precios_acumulada,precios_entrega)\n",
    "tabla_precios_acumulada.fillna(0.0,inplace=True)\n",
    "\n",
    "for entrega in lista_entregas:\n",
    "  pedidos_acumulados = ne.incorporar_nueva_lista_pedidos(pedidos_acumulados,entrega)"
   ]
  },
  {
   "cell_type": "code",
   "execution_count": 21,
   "metadata": {},
   "outputs": [],
   "source": [
    "pedidos_acumulados.to_excel('pedidos_acumulados.xlsx',index=False)\n",
    "tabla_precios_acumulada.to_excel('tabla_precios_acumulada.xlsx',index=False)\n",
    "\n",
    "#al ejecutar esta celda se sobrescriben los excel acumulados que teníamos, reuniendo también la o las entregas nuevas"
   ]
  }
 ],
 "metadata": {
  "kernelspec": {
   "display_name": "Python 3",
   "language": "python",
   "name": "python3"
  },
  "language_info": {
   "codemirror_mode": {
    "name": "ipython",
    "version": 3
   },
   "file_extension": ".py",
   "mimetype": "text/x-python",
   "name": "python",
   "nbconvert_exporter": "python",
   "pygments_lexer": "ipython3",
   "version": "3.9.6"
  }
 },
 "nbformat": 4,
 "nbformat_minor": 2
}
